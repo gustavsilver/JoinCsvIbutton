import pandas as pd
import seaborn as sns
urlglo='https://raw.githubusercontent.com/gustavsilver/Python/master/'

s1='466015'	
s2='465995'		
s3='465985'	
s4='465978'	
s5='465974'
s6='431717'
s7='431715'
s8='431498'
s9='431498'
s10='431498'

ext='.csv'

df1 =pd.read_csv(urlglo + s1+ext)
df2 =pd.read_csv(urlglo + s2+ext)
df3 =pd.read_csv(urlglo + s3+ext)
df4 =pd.read_csv(urlglo + s4+ext)
df5 =pd.read_csv(urlglo + s5+ext)
df6 =pd.read_csv(urlglo + s6+ext)
df7 =pd.read_csv(urlglo + s7+ext)
df8 =pd.read_csv(urlglo + s8+ext)
df9 =pd.read_csv(urlglo + s9+ext)
df10 =pd.read_csv(urlglo + s10+ext)

data1= (df1.loc[:, ['Date', 'Value']] )
data1.rename(columns={"Value": s1}, inplace=True)

data2= (df2.loc[:, ['Value']] )
data2.rename(columns={"Value": s2}, inplace=True)

data3= (df3.loc[:, ['Value']] )
data3.rename(columns={"Value": s3}, inplace=True)

data4= (df4.loc[:, ['Value']] )
data4.rename(columns={"Value": s4}, inplace=True)

data5= (df5.loc[:, ['Value']] )
data5.rename(columns={"Value": s5}, inplace=True)

data6= (df6.loc[:, ['Value']] )
data6.rename(columns={"Value": s6}, inplace=True)

data7= (df7.loc[:, ['Value']] )
data7.rename(columns={"Value": s7}, inplace=True)

data8= (df8.loc[:, ['Value']] )
data8.rename(columns={"Value": s8}, inplace=True)

data9= (df9.loc[:, ['Value']] )
data9.rename(columns={"Value": s9}, inplace=True)

data10= (df10.loc[:, ['Value']] )
data10.rename(columns={"Value": s10}, inplace=True)

dataf = pd.concat([data1, data2, data3, data4, data5, data6, data7, data8, data9, data10], axis=1,)
print(dataf)
#g=sns.lmplot(x='Date' , y='Value',data=data1,palette='set2')

